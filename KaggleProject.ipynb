{
 "cells": [
  {
   "cell_type": "code",
   "execution_count": 1,
   "metadata": {
    "colab": {},
    "colab_type": "code",
    "id": "l7vgO1SyYu6_"
   },
   "outputs": [],
   "source": [
    "import numpy as np\n",
    "import pandas as pd\n",
    "import matplotlib.pyplot as plt"
   ]
  },
  {
   "cell_type": "code",
   "execution_count": 2,
   "metadata": {
    "colab": {},
    "colab_type": "code",
    "id": "Z5BJpLqxQ_qB"
   },
   "outputs": [],
   "source": [
    "from sklearn.model_selection import train_test_split\n",
    "from sklearn.preprocessing import LabelBinarizer\n",
    "import cv2\n",
    "import os"
   ]
  },
  {
   "cell_type": "code",
   "execution_count": 3,
   "metadata": {
    "colab": {
     "base_uri": "https://localhost:8080/",
     "height": 34
    },
    "colab_type": "code",
    "id": "3pJ820FOYu7M",
    "outputId": "c6a1945d-7760-4417-ea1a-b7aa5e37e62c"
   },
   "outputs": [
    {
     "name": "stderr",
     "output_type": "stream",
     "text": [
      "C:\\Users\\Ali\\Anaconda3\\lib\\site-packages\\h5py\\__init__.py:36: FutureWarning: Conversion of the second argument of issubdtype from `float` to `np.floating` is deprecated. In future, it will be treated as `np.float64 == np.dtype(float).type`.\n",
      "  from ._conv import register_converters as _register_converters\n",
      "Using TensorFlow backend.\n"
     ]
    }
   ],
   "source": [
    "import tensorflow as tf\n",
    "import keras\n",
    "from keras.models import Sequential\n",
    "from keras.models import Model\n",
    "from keras.layers import *\n",
    "from keras import optimizers\n",
    "from keras.callbacks import ReduceLROnPlateau\n",
    "from keras.layers.merge import concatenate"
   ]
  },
  {
   "cell_type": "code",
   "execution_count": 4,
   "metadata": {
    "colab": {},
    "colab_type": "code",
    "id": "yN6XBb8gUJv_"
   },
   "outputs": [],
   "source": [
    "# Define path of data to be used for preprocessing and training\n",
    "path = \"./all/\""
   ]
  },
  {
   "cell_type": "markdown",
   "metadata": {
    "colab_type": "text",
    "id": "XtA17BG2RIRw"
   },
   "source": [
    "# Preprocessing"
   ]
  },
  {
   "cell_type": "code",
   "execution_count": 5,
   "metadata": {
    "colab": {
     "base_uri": "https://localhost:8080/",
     "height": 370
    },
    "colab_type": "code",
    "id": "tEVh9UOJQuMT",
    "outputId": "9c93a69b-6416-41fe-8c1d-91d7000cb956"
   },
   "outputs": [
    {
     "data": {
      "text/plain": [
       "(10000, 2)"
      ]
     },
     "execution_count": 5,
     "metadata": {},
     "output_type": "execute_result"
    }
   ],
   "source": [
    "# Load images, define path to original dataset provided\n",
    "images_tr = np.load(path + 'train_images.npy', encoding=\"latin1\")\n",
    "images = np.load(path + 'test_images.npy', encoding=\"latin1\")\n",
    "labels = pd.read_csv(path + 'train_labels.csv')\n",
    "labels = labels['Category'].values\n",
    "images.shape"
   ]
  },
  {
   "cell_type": "code",
   "execution_count": 6,
   "metadata": {
    "colab": {},
    "colab_type": "code",
    "id": "q41LXYxoSOQK"
   },
   "outputs": [],
   "source": [
    "# Several helper functions\n",
    "def crop_img(img, square_size = 40):\n",
    "    img = np.uint8(img)\n",
    "    x_vals, y_vals, temp_length, temp_height = get_box_size(img)\n",
    "    img =  img[y_vals[1]:y_vals[1]+temp_height + 1, x_vals[0]:x_vals[0]+temp_length + 1]\n",
    "    return img\n",
    "\n",
    "def preProcessImage(image, num_contours = 1, cutoff=200):\n",
    "    image = np.uint8(image)\n",
    "    im = np.uint8(image)\n",
    "    red, thresh = cv2.threshold(im, cutoff, 255, 0)\n",
    "    im2, contours, hierarchy= cv2.findContours(thresh, cv2.RETR_LIST, cv2.CHAIN_APPROX_SIMPLE)\n",
    "    mask = np.zeros(im.shape, np.uint8)\n",
    "    largest_contours = sorted(contours, key=cv2.contourArea, reverse=True)\n",
    "\n",
    "    for ind, contour in enumerate(largest_contours[:num_contours]):\n",
    "        x, y, w, h = cv2.boundingRect(contour)\n",
    "        mask[y:y+h, x:x+w] = 255\n",
    "        \n",
    "    filteredImage = cv2.bitwise_and(thresh, thresh, mask=mask)\n",
    "    return filteredImage.reshape((image.shape))\n",
    "\n",
    "def square_up(img):\n",
    "    x_vals, y_vals, temp_length, temp_height = get_box_size(img)\n",
    "    if temp_length > temp_height:\n",
    "        diff = temp_length - temp_height\n",
    "        img = cv2.copyMakeBorder(img, diff//2, diff//2,0, 0,cv2.BORDER_CONSTANT,value = 0)\n",
    "    else:\n",
    "        diff = temp_height - temp_length\n",
    "        img = cv2.copyMakeBorder(img, 0, 0, diff//2, diff//2,cv2.BORDER_CONSTANT,value = 0)\n",
    "        \n",
    "    return img\n",
    "\n",
    "def get_box_size(img):\n",
    "    data = np.uint8(img)\n",
    "    x_min = 100\n",
    "    y_min = 0\n",
    "    x_max = 0\n",
    "    y_max = 100\n",
    "    for i in range(data.shape[0]):\n",
    "        for j in range(data.shape[1]):\n",
    "            if data[i][j] != 0:\n",
    "                x_min = min(x_min, j)\n",
    "                x_max = max(x_max, j)\n",
    "                y_max = min(y_max, i)\n",
    "                y_min = max(y_min, i)\n",
    "    total_width = x_max - x_min\n",
    "    total_height = y_min - y_max\n",
    "    return (x_min, x_max), (y_min, y_max), total_width, total_height"
   ]
  },
  {
   "cell_type": "code",
   "execution_count": 21,
   "metadata": {
    "colab": {},
    "colab_type": "code",
    "id": "hpScbclmSqRG"
   },
   "outputs": [],
   "source": [
    "def pipeline(features_path, labels_path):\n",
    "    images = np.load(features_path, encoding=\"latin1\")\n",
    "    labels = pd.read_csv(labels_path)['Category'].values\n",
    "    features = []\n",
    "    for i in range(len(labels)):\n",
    "        img = preProcessImage(images[i][1].reshape(100, 100), 1, 150)\n",
    "        img = crop_img(img)\n",
    "        img = square_up(img)\n",
    "        img = cv2.resize(img, (40, 40))\n",
    "        img = np.pad(img, pad_width=1, mode=\"constant\", constant_values=0)\n",
    "        features.append(img)\n",
    "    return np.array(features)\n",
    "\n",
    "  \n",
    "train_features_path = path + 'train_images.npy'\n",
    "labels_path = path + 'train_labels.csv'\n",
    "\n",
    "train_features = pipeline(train_features_path, labels_path)\n",
    "np.save(path + 'processed_resized_train_images.npy', train_features)\n",
    "\n",
    "test_features_path = path + 'test_images.npy'\n",
    "test_features = pipeline(test_features_path, labels_path)\n",
    "np.save(path + 'processed_resized_test_images.npy', test_features)"
   ]
  },
  {
   "cell_type": "markdown",
   "metadata": {
    "colab_type": "text",
    "id": "YpBUtLXEVeO9"
   },
   "source": [
    "# Model Definition"
   ]
  },
  {
   "cell_type": "code",
   "execution_count": 41,
   "metadata": {
    "colab": {
     "base_uri": "https://localhost:8080/",
     "height": 105
    },
    "colab_type": "code",
    "id": "SCmFuk8OYu7Y",
    "outputId": "4ceb9ffc-ea8f-4417-f092-883f0c340761"
   },
   "outputs": [],
   "source": [
    "modelVgg = keras.applications.vgg16.VGG16(include_top=False, input_shape=(42, 42, 3), classes=31)    \n",
    "modelDense = keras.applications.densenet.DenseNet121(include_top=False, input_shape=(42, 42, 3), classes=31)    "
   ]
  },
  {
   "cell_type": "markdown",
   "metadata": {},
   "source": [
    "#### **VGG16 Model**"
   ]
  },
  {
   "cell_type": "code",
   "execution_count": 45,
   "metadata": {
    "colab": {},
    "colab_type": "code",
    "id": "Pzpaz65nYu7z"
   },
   "outputs": [],
   "source": [
    "vgg_model = Sequential()\n",
    "for layer in modelVgg.layers:\n",
    "    vgg_model.add(layer)\n",
    "vgg_model.add(Flatten())\n",
    "vgg_model.add(Dense(31, name='LinearCombination'))\n",
    "vgg_model.add(Activation('softmax'))"
   ]
  },
  {
   "cell_type": "markdown",
   "metadata": {},
   "source": [
    "#### **DenseNet121 Model**"
   ]
  },
  {
   "cell_type": "code",
   "execution_count": 25,
   "metadata": {
    "colab": {},
    "colab_type": "code",
    "id": "Z_m4zBp7J1oz"
   },
   "outputs": [],
   "source": [
    "densenet_model = Sequential()\n",
    "densenet_model.add(modelDense)\n",
    "densenet_model.add(Flatten())\n",
    "densenet_model.add(Dense(31, name='LinearCombination'))\n",
    "densenet_model.add(Activation('softmax'))"
   ]
  },
  {
   "cell_type": "markdown",
   "metadata": {
    "colab_type": "text",
    "id": "YgQ2rFnMD29l"
   },
   "source": [
    "#### **MNIST CNN, layers added:**"
   ]
  },
  {
   "cell_type": "code",
   "execution_count": 26,
   "metadata": {
    "colab": {},
    "colab_type": "code",
    "id": "i6ysIE_xD2nt"
   },
   "outputs": [],
   "source": [
    "mnist_model = Sequential()\n",
    "\n",
    "mnist_model.add(Conv2D(filters = 32, kernel_size = (5,5),padding = 'Same', \n",
    "                 activation ='relu', input_shape = (42,42,3)))\n",
    "mnist_model.add(Conv2D(filters = 32, kernel_size = (5,5),padding = 'Same', \n",
    "                 activation ='relu'))\n",
    "mnist_model.add(Conv2D(filters = 32, kernel_size = (5,5),padding = 'Same', \n",
    "                 activation ='relu'))\n",
    "mnist_model.add(MaxPool2D(pool_size=(2,2)))\n",
    "\n",
    "\n",
    "mnist_model.add(Conv2D(filters = 64, kernel_size = (3,3),padding = 'Same', \n",
    "                 activation ='relu'))\n",
    "mnist_model.add(Conv2D(filters = 64, kernel_size = (3,3),padding = 'Same', \n",
    "                 activation ='relu'))\n",
    "mnist_model.add(Conv2D(filters = 64, kernel_size = (3,3),padding = 'Same', \n",
    "                 activation ='relu'))\n",
    "mnist_model.add(MaxPool2D(pool_size=(2,2), strides=(2,2)))\n",
    "\n",
    "\n",
    "mnist_model.add(Flatten())\n",
    "mnist_model.add(Dense(256, activation = \"relu\"))\n",
    "mnist_model.add(Dense(31, activation = \"softmax\"))"
   ]
  },
  {
   "cell_type": "markdown",
   "metadata": {
    "colab_type": "text",
    "id": "oX-FA4jvqFFf"
   },
   "source": [
    "# Processing/Set up"
   ]
  },
  {
   "cell_type": "markdown",
   "metadata": {
    "colab_type": "text",
    "id": "clkRZ0g2Yu8R"
   },
   "source": [
    "#### Load Images"
   ]
  },
  {
   "cell_type": "code",
   "execution_count": 27,
   "metadata": {
    "colab": {},
    "colab_type": "code",
    "id": "bwsmEG-5Yu8V"
   },
   "outputs": [],
   "source": [
    "images = np.load(path + \"processed_resized_train_images.npy\", encoding = 'latin1')"
   ]
  },
  {
   "cell_type": "code",
   "execution_count": 28,
   "metadata": {
    "colab": {
     "base_uri": "https://localhost:8080/",
     "height": 51
    },
    "colab_type": "code",
    "id": "4JNBNgqyYu8g",
    "outputId": "ac8838fc-31d4-4c0e-81dd-486e29eff7e9"
   },
   "outputs": [
    {
     "data": {
      "text/plain": [
       "array(['shovel', 'rifle', 'scorpion', ..., 'rollerskates', 'mouth',\n",
       "       'pencil'], dtype=object)"
      ]
     },
     "execution_count": 28,
     "metadata": {},
     "output_type": "execute_result"
    }
   ],
   "source": [
    "labels = pd.read_csv(path + \"train_labels.csv\")[\"Category\"].values\n",
    "labels"
   ]
  },
  {
   "cell_type": "code",
   "execution_count": 29,
   "metadata": {
    "colab": {},
    "colab_type": "code",
    "id": "p68cqgY2Yu9G"
   },
   "outputs": [],
   "source": [
    "train_img = []\n",
    "for i, img in enumerate(images):\n",
    "    train_img.append(np.repeat(np.reshape(img, (42, 42))[:, :, np.newaxis], repeats=3, axis=2))\n",
    "train_img = np.array(train_img)"
   ]
  },
  {
   "cell_type": "markdown",
   "metadata": {
    "colab_type": "text",
    "id": "cDwKUM6FYu9X"
   },
   "source": [
    "#### One Hot Encoding/Split Data"
   ]
  },
  {
   "cell_type": "code",
   "execution_count": 30,
   "metadata": {
    "colab": {},
    "colab_type": "code",
    "id": "Jg0d4Gb0Yu9d"
   },
   "outputs": [],
   "source": [
    "from sklearn.preprocessing import OneHotEncoder\n",
    "from sklearn.preprocessing import LabelEncoder\n",
    "from keras.utils.np_utils import to_categorical\n",
    "from sklearn.model_selection import train_test_split"
   ]
  },
  {
   "cell_type": "code",
   "execution_count": 31,
   "metadata": {
    "colab": {
     "base_uri": "https://localhost:8080/",
     "height": 153
    },
    "colab_type": "code",
    "id": "408jQp6qYu9m",
    "outputId": "a1177789-755d-4dac-e6ba-0545706aaef2"
   },
   "outputs": [
    {
     "name": "stdout",
     "output_type": "stream",
     "text": [
      "Y:  [[0. 0. 0. ... 0. 0. 0.]\n",
      " [0. 0. 0. ... 0. 0. 0.]\n",
      " [0. 0. 0. ... 0. 0. 0.]\n",
      " ...\n",
      " [0. 0. 0. ... 0. 0. 0.]\n",
      " [0. 0. 0. ... 0. 0. 0.]\n",
      " [0. 0. 0. ... 0. 0. 0.]]\n",
      "y.shape:  (10000, 31)\n"
     ]
    }
   ],
   "source": [
    "le = LabelEncoder()\n",
    "y = to_categorical(le.fit_transform(labels), num_classes = 31)\n",
    "print(\"Y: \", y)\n",
    "print(\"y.shape: \", y.shape)\n",
    "\n",
    "# Set the random seed\n",
    "random_seed = 69\n",
    "\n",
    "# Split the train and the validation set for the fitting\n",
    "x_train, x_val, y_train, y_val = train_test_split(train_img, y, test_size = 0.1, random_state=random_seed)"
   ]
  },
  {
   "cell_type": "code",
   "execution_count": 43,
   "metadata": {},
   "outputs": [],
   "source": [
    "# my_model.load_weights(\"../content/gdrive/My Drive/Academic/COMP 551/Kaggle Project/Data/Weights/vgg16_kaggle_train.h5\")"
   ]
  },
  {
   "cell_type": "code",
   "execution_count": 39,
   "metadata": {
    "colab": {
     "base_uri": "https://localhost:8080/",
     "height": 418
    },
    "colab_type": "code",
    "id": "3x6zFJ9DYu9z",
    "outputId": "8ca0d0fd-1fdd-4833-d9e1-2ca80fb3117e"
   },
   "outputs": [
    {
     "data": {
      "image/png": "[encoded data removed]",
      "text/plain": [
       "<matplotlib.figure.Figure at 0x25608c9a588>"
      ]
     },
     "metadata": {},
     "output_type": "display_data"
    },
    {
     "name": "stderr",
     "output_type": "stream",
     "text": [
      "C:\\Users\\Ali\\Anaconda3\\lib\\site-packages\\sklearn\\preprocessing\\label.py:151: DeprecationWarning: The truth value of an empty array is ambiguous. Returning False, but in future this will result in an error. Use `array.size > 0` to check that an array is not empty.\n",
      "  if diff:\n"
     ]
    },
    {
     "data": {
      "text/plain": [
       "'penguin'"
      ]
     },
     "execution_count": 39,
     "metadata": {},
     "output_type": "execute_result"
    }
   ],
   "source": [
    "i = 9\n",
    "plt.imshow(x_train[i].reshape(42, 42, 3), cmap=\"gray\")\n",
    "plt.show()\n",
    "\n",
    "le.inverse_transform(np.argmax(y_train[i]))"
   ]
  },
  {
   "cell_type": "markdown",
   "metadata": {
    "colab_type": "text",
    "id": "NICOzXiYn7pM"
   },
   "source": [
    "# Training"
   ]
  },
  {
   "cell_type": "code",
   "execution_count": 18,
   "metadata": {
    "colab": {},
    "colab_type": "code",
    "id": "lYqyZyqjWe1R"
   },
   "outputs": [],
   "source": [
    "learning_rate_reduction = ReduceLROnPlateau(monitor='val_acc', \n",
    "                                            patience=2, \n",
    "                                            verbose=1, \n",
    "                                            factor=0.5, \n",
    "                                            min_lr=0.000001)"
   ]
  },
  {
   "cell_type": "code",
   "execution_count": 46,
   "metadata": {
    "colab": {
     "base_uri": "https://localhost:8080/",
     "height": 955
    },
    "colab_type": "code",
    "id": "k1UxinkDWHuN",
    "outputId": "1bddc037-ee79-4169-a803-97a70c752258"
   },
   "outputs": [
    {
     "name": "stdout",
     "output_type": "stream",
     "text": [
      "_________________________________________________________________\n",
      "Layer (type)                 Output Shape              Param #   \n",
      "=================================================================\n",
      "block1_conv1 (Conv2D)        (None, 42, 42, 64)        1792      \n",
      "_________________________________________________________________\n",
      "block1_conv2 (Conv2D)        (None, 42, 42, 64)        36928     \n",
      "_________________________________________________________________\n",
      "block1_pool (MaxPooling2D)   (None, 21, 21, 64)        0         \n",
      "_________________________________________________________________\n",
      "block2_conv1 (Conv2D)        (None, 21, 21, 128)       73856     \n",
      "_________________________________________________________________\n",
      "block2_conv2 (Conv2D)        (None, 21, 21, 128)       147584    \n",
      "_________________________________________________________________\n",
      "block2_pool (MaxPooling2D)   (None, 10, 10, 128)       0         \n",
      "_________________________________________________________________\n",
      "block3_conv1 (Conv2D)        (None, 10, 10, 256)       295168    \n",
      "_________________________________________________________________\n",
      "block3_conv2 (Conv2D)        (None, 10, 10, 256)       590080    \n",
      "_________________________________________________________________\n",
      "block3_conv3 (Conv2D)        (None, 10, 10, 256)       590080    \n",
      "_________________________________________________________________\n",
      "block3_pool (MaxPooling2D)   (None, 5, 5, 256)         0         \n",
      "_________________________________________________________________\n",
      "block4_conv1 (Conv2D)        (None, 5, 5, 512)         1180160   \n",
      "_________________________________________________________________\n",
      "block4_conv2 (Conv2D)        (None, 5, 5, 512)         2359808   \n",
      "_________________________________________________________________\n",
      "block4_conv3 (Conv2D)        (None, 5, 5, 512)         2359808   \n",
      "_________________________________________________________________\n",
      "block4_pool (MaxPooling2D)   (None, 2, 2, 512)         0         \n",
      "_________________________________________________________________\n",
      "block5_conv1 (Conv2D)        (None, 2, 2, 512)         2359808   \n",
      "_________________________________________________________________\n",
      "block5_conv2 (Conv2D)        (None, 2, 2, 512)         2359808   \n",
      "_________________________________________________________________\n",
      "block5_conv3 (Conv2D)        (None, 2, 2, 512)         2359808   \n",
      "_________________________________________________________________\n",
      "block5_pool (MaxPooling2D)   (None, 1, 1, 512)         0         \n",
      "_________________________________________________________________\n",
      "flatten_9 (Flatten)          (None, 512)               0         \n",
      "_________________________________________________________________\n",
      "LinearCombination (Dense)    (None, 31)                15903     \n",
      "_________________________________________________________________\n",
      "activation_7 (Activation)    (None, 31)                0         \n",
      "=================================================================\n",
      "Total params: 14,730,591\n",
      "Trainable params: 14,730,591\n",
      "Non-trainable params: 0\n",
      "_________________________________________________________________\n",
      "Train on 9000 samples, validate on 1000 samples\n",
      "Epoch 1/50\n",
      "9000/9000 [==============================] - 91s 10ms/step - loss: 2.4249 - acc: 0.3526 - val_loss: 1.7315 - val_acc: 0.5230\n",
      "Epoch 2/50\n",
      "9000/9000 [==============================] - 84s 9ms/step - loss: 1.3908 - acc: 0.6204 - val_loss: 1.3289 - val_acc: 0.6380\n",
      "Epoch 3/50\n",
      "9000/9000 [==============================] - 83s 9ms/step - loss: 1.0331 - acc: 0.7139 - val_loss: 1.2446 - val_acc: 0.6590\n",
      "Epoch 4/50\n",
      "9000/9000 [==============================] - 84s 9ms/step - loss: 0.7984 - acc: 0.7742 - val_loss: 1.1433 - val_acc: 0.6990\n",
      "Epoch 5/50\n",
      "9000/9000 [==============================] - 84s 9ms/step - loss: 0.6149 - acc: 0.8236 - val_loss: 1.1876 - val_acc: 0.6950\n",
      "Epoch 6/50\n",
      "9000/9000 [==============================] - 87s 10ms/step - loss: 0.4494 - acc: 0.8681 - val_loss: 1.2405 - val_acc: 0.7060\n",
      "Epoch 7/50\n",
      "9000/9000 [==============================] - 88s 10ms/step - loss: 0.3189 - acc: 0.9069 - val_loss: 1.3239 - val_acc: 0.6910\n",
      "Epoch 8/50\n",
      "9000/9000 [==============================] - 88s 10ms/step - loss: 0.2126 - acc: 0.9394 - val_loss: 1.3788 - val_acc: 0.6960\n",
      "\n",
      "Epoch 00008: ReduceLROnPlateau reducing learning rate to 4.999999873689376e-06.\n",
      "Epoch 9/50\n",
      "9000/9000 [==============================] - 88s 10ms/step - loss: 0.0972 - acc: 0.9776 - val_loss: 1.4106 - val_acc: 0.7160\n",
      "Epoch 10/50\n",
      "9000/9000 [==============================] - 88s 10ms/step - loss: 0.0548 - acc: 0.9900 - val_loss: 1.5427 - val_acc: 0.7160\n",
      "Epoch 11/50\n",
      "9000/9000 [==============================] - 88s 10ms/step - loss: 0.0333 - acc: 0.9958 - val_loss: 1.6415 - val_acc: 0.7250\n",
      "Epoch 12/50\n",
      "9000/9000 [==============================] - 88s 10ms/step - loss: 0.0213 - acc: 0.9979 - val_loss: 1.7210 - val_acc: 0.7270\n",
      "Epoch 13/50\n",
      "9000/9000 [==============================] - 88s 10ms/step - loss: 0.0139 - acc: 0.9988 - val_loss: 1.8307 - val_acc: 0.7200\n",
      "Epoch 14/50\n",
      "9000/9000 [==============================] - 88s 10ms/step - loss: 0.0098 - acc: 0.9989 - val_loss: 1.8904 - val_acc: 0.7270\n",
      "\n",
      "Epoch 00014: ReduceLROnPlateau reducing learning rate to 2.499999936844688e-06.\n",
      "Epoch 15/50\n",
      "9000/9000 [==============================] - 88s 10ms/step - loss: 0.0067 - acc: 0.9993 - val_loss: 1.9421 - val_acc: 0.7260\n",
      "Epoch 16/50\n",
      "9000/9000 [==============================] - 88s 10ms/step - loss: 0.0063 - acc: 0.9991 - val_loss: 1.9630 - val_acc: 0.7240\n",
      "\n",
      "Epoch 00016: ReduceLROnPlateau reducing learning rate to 1.249999968422344e-06.\n",
      "Epoch 17/50\n",
      "9000/9000 [==============================] - 88s 10ms/step - loss: 0.0054 - acc: 0.9993 - val_loss: 1.9749 - val_acc: 0.7240\n",
      "Epoch 18/50\n",
      "9000/9000 [==============================] - 88s 10ms/step - loss: 0.0051 - acc: 0.9993 - val_loss: 1.9925 - val_acc: 0.7250\n",
      "\n",
      "Epoch 00018: ReduceLROnPlateau reducing learning rate to 1e-06.\n",
      "Epoch 19/50\n",
      "9000/9000 [==============================] - 88s 10ms/step - loss: 0.0048 - acc: 0.9993 - val_loss: 2.0111 - val_acc: 0.7240\n",
      "Epoch 20/50\n",
      "9000/9000 [==============================] - 88s 10ms/step - loss: 0.0048 - acc: 0.9994 - val_loss: 2.0205 - val_acc: 0.7230\n",
      "Epoch 21/50\n",
      "9000/9000 [==============================] - 89s 10ms/step - loss: 0.0046 - acc: 0.9994 - val_loss: 2.0389 - val_acc: 0.7220\n",
      "Epoch 22/50\n",
      "9000/9000 [==============================] - 89s 10ms/step - loss: 0.0045 - acc: 0.9993 - val_loss: 2.0534 - val_acc: 0.7240\n",
      "Epoch 23/50\n",
      "9000/9000 [==============================] - 90s 10ms/step - loss: 0.0043 - acc: 0.9994 - val_loss: 2.0700 - val_acc: 0.7240\n",
      "Epoch 24/50\n",
      "9000/9000 [==============================] - 89s 10ms/step - loss: 0.0042 - acc: 0.9994 - val_loss: 2.0834 - val_acc: 0.7240\n",
      "Epoch 25/50\n",
      "9000/9000 [==============================] - 89s 10ms/step - loss: 0.0040 - acc: 0.9994 - val_loss: 2.1081 - val_acc: 0.7260\n",
      "Epoch 26/50\n",
      "9000/9000 [==============================] - 88s 10ms/step - loss: 0.0040 - acc: 0.9994 - val_loss: 2.1236 - val_acc: 0.7250\n",
      "Epoch 27/50\n",
      "9000/9000 [==============================] - 88s 10ms/step - loss: 0.0039 - acc: 0.9993 - val_loss: 2.1404 - val_acc: 0.7260\n",
      "Epoch 28/50\n",
      "9000/9000 [==============================] - 88s 10ms/step - loss: 0.0036 - acc: 0.9993 - val_loss: 2.1645 - val_acc: 0.7240\n",
      "Epoch 29/50\n",
      "9000/9000 [==============================] - 88s 10ms/step - loss: 0.0037 - acc: 0.9994 - val_loss: 2.1784 - val_acc: 0.7260\n",
      "Epoch 30/50\n",
      "9000/9000 [==============================] - 88s 10ms/step - loss: 0.0035 - acc: 0.9994 - val_loss: 2.1988 - val_acc: 0.7240\n",
      "Epoch 31/50\n",
      "9000/9000 [==============================] - 88s 10ms/step - loss: 0.0036 - acc: 0.9993 - val_loss: 2.2151 - val_acc: 0.7270\n",
      "Epoch 32/50\n",
      "9000/9000 [==============================] - 89s 10ms/step - loss: 0.0036 - acc: 0.9994 - val_loss: 2.2261 - val_acc: 0.7260\n",
      "Epoch 33/50\n",
      "9000/9000 [==============================] - 89s 10ms/step - loss: 0.0033 - acc: 0.9994 - val_loss: 2.2437 - val_acc: 0.7220\n",
      "Epoch 34/50\n",
      "9000/9000 [==============================] - 90s 10ms/step - loss: 0.0035 - acc: 0.9992 - val_loss: 2.2649 - val_acc: 0.7170\n",
      "Epoch 35/50\n",
      "9000/9000 [==============================] - 89s 10ms/step - loss: 0.0057 - acc: 0.9988 - val_loss: 2.2390 - val_acc: 0.7230\n",
      "Epoch 36/50\n",
      "9000/9000 [==============================] - 90s 10ms/step - loss: 0.0032 - acc: 0.9994 - val_loss: 2.2600 - val_acc: 0.7260\n",
      "Epoch 37/50\n",
      "9000/9000 [==============================] - 88s 10ms/step - loss: 0.0032 - acc: 0.9994 - val_loss: 2.2742 - val_acc: 0.7270\n",
      "Epoch 38/50\n",
      "9000/9000 [==============================] - 91s 10ms/step - loss: 0.0030 - acc: 0.9994 - val_loss: 2.2977 - val_acc: 0.7290\n",
      "Epoch 39/50\n",
      "9000/9000 [==============================] - 89s 10ms/step - loss: 0.0033 - acc: 0.9993 - val_loss: 2.2994 - val_acc: 0.7290\n",
      "Epoch 40/50\n",
      "9000/9000 [==============================] - 90s 10ms/step - loss: 0.0031 - acc: 0.9994 - val_loss: 2.3201 - val_acc: 0.7290\n",
      "Epoch 41/50\n",
      "9000/9000 [==============================] - 91s 10ms/step - loss: 0.0032 - acc: 0.9994 - val_loss: 2.3307 - val_acc: 0.7300\n",
      "Epoch 42/50\n",
      "9000/9000 [==============================] - 91s 10ms/step - loss: 0.0031 - acc: 0.9994 - val_loss: 2.3441 - val_acc: 0.7280\n",
      "Epoch 43/50\n",
      "9000/9000 [==============================] - 91s 10ms/step - loss: 0.0031 - acc: 0.9992 - val_loss: 2.3448 - val_acc: 0.7270\n",
      "Epoch 44/50\n",
      "9000/9000 [==============================] - 90s 10ms/step - loss: 0.0030 - acc: 0.9994 - val_loss: 2.3543 - val_acc: 0.7260\n",
      "Epoch 45/50\n",
      "9000/9000 [==============================] - 91s 10ms/step - loss: 0.0030 - acc: 0.9994 - val_loss: 2.3793 - val_acc: 0.7250\n",
      "Epoch 46/50\n",
      "9000/9000 [==============================] - 91s 10ms/step - loss: 0.0029 - acc: 0.9994 - val_loss: 2.3819 - val_acc: 0.7270\n",
      "Epoch 47/50\n",
      "9000/9000 [==============================] - 90s 10ms/step - loss: 0.0030 - acc: 0.9994 - val_loss: 2.3991 - val_acc: 0.7210\n",
      "Epoch 48/50\n",
      "9000/9000 [==============================] - 91s 10ms/step - loss: 0.0031 - acc: 0.9994 - val_loss: 2.4184 - val_acc: 0.7230\n",
      "Epoch 49/50\n",
      "9000/9000 [==============================] - 91s 10ms/step - loss: 0.0029 - acc: 0.9994 - val_loss: 2.4171 - val_acc: 0.7230\n",
      "Epoch 50/50\n",
      "9000/9000 [==============================] - 91s 10ms/step - loss: 0.0029 - acc: 0.9993 - val_loss: 2.4525 - val_acc: 0.7280\n"
     ]
    }
   ],
   "source": [
    "# Select the model you want to run: vgg_model, mnist_model, densenet_model\n",
    "\n",
    "my_model = vgg_model\n",
    "\n",
    "# Set all layers to be trainable\n",
    "for layer in my_model.layers:\n",
    "    layer.trainable = True\n",
    "\n",
    "# my_model.compile(optimizers.SGD(lr=0.00001, momentum=0.01, decay=0.0, nesterov=False), \n",
    "#                  loss=\"categorical_crossentropy\", \n",
    "#                  metrics=[\"accuracy\"])    \n",
    "\n",
    "# my_model.compile(optimizers.RMSprop(lr=0.001, rho=0.9, epsilon=None, decay=0.0), \n",
    "#                  loss=\"categorical_crossentropy\", \n",
    "#                  metrics=[\"accuracy\"])   \n",
    "\n",
    "my_model.compile(optimizers.Adam(lr=0.00001), \n",
    "                 loss=\"categorical_crossentropy\", \n",
    "                 metrics=[\"accuracy\"])    \n",
    "\n",
    "my_model.summary()\n",
    "  \n",
    "history = my_model.fit(x_train, y_train, batch_size=32,\n",
    "             epochs = 50,\n",
    "             validation_data = (x_val,y_val), callbacks=[learning_rate_reduction])"
   ]
  },
  {
   "cell_type": "markdown",
   "metadata": {
    "colab_type": "text",
    "id": "ETXdk2vxreWA"
   },
   "source": [
    "# Plots"
   ]
  },
  {
   "cell_type": "code",
   "execution_count": 47,
   "metadata": {
    "colab": {},
    "colab_type": "code",
    "id": "JODNZ91dfQ43"
   },
   "outputs": [],
   "source": [
    "import pickle"
   ]
  },
  {
   "cell_type": "markdown",
   "metadata": {
    "colab_type": "text",
    "id": "d7NrPyCNL1sT"
   },
   "source": [
    "#### Save training history:"
   ]
  },
  {
   "cell_type": "code",
   "execution_count": 49,
   "metadata": {
    "colab": {},
    "colab_type": "code",
    "id": "AWOYIp6QmSgS"
   },
   "outputs": [],
   "source": [
    "with open(path+'/VGG16_HoG73val', 'wb') as file_pi:\n",
    "        pickle.dump(history.history, file_pi)\n",
    "    \n",
    "hist = pickle.load(open(path+'/VGG16_HoG73val', 'rb'))\n",
    "my_model.save(path + \"VGG16_HoG73val.h5\")"
   ]
  },
  {
   "cell_type": "code",
   "execution_count": 50,
   "metadata": {
    "colab": {},
    "colab_type": "code",
    "id": "MK2CLc0PxBHK"
   },
   "outputs": [],
   "source": [
    "def top_five_val(vals):\n",
    "    vals = vals[\"val_acc\"]\n",
    "    top_5_vals = sorted(vals, reverse=True)[:5]\n",
    "    return sum(top_5_vals)/5.0"
   ]
  },
  {
   "cell_type": "code",
   "execution_count": 51,
   "metadata": {
    "colab": {
     "base_uri": "https://localhost:8080/",
     "height": 34
    },
    "colab_type": "code",
    "id": "kFW8GPBGsmWo",
    "outputId": "6e1b96fc-a826-49fe-85cc-1f9ec7ff3ee4"
   },
   "outputs": [
    {
     "data": {
      "text/plain": [
       "0.7290000000000001"
      ]
     },
     "execution_count": 51,
     "metadata": {},
     "output_type": "execute_result"
    }
   ],
   "source": [
    "top_five_val(hist)"
   ]
  },
  {
   "cell_type": "markdown",
   "metadata": {
    "colab_type": "text",
    "id": "LzWqz8iPmMYh"
   },
   "source": [
    "#### Plots"
   ]
  },
  {
   "cell_type": "code",
   "execution_count": 52,
   "metadata": {
    "colab": {
     "base_uri": "https://localhost:8080/",
     "height": 349
    },
    "colab_type": "code",
    "id": "_kYHC1G1mSgY",
    "outputId": "56c187f5-d749-4257-958d-d54aebc1370c"
   },
   "outputs": [
    {
     "data": {
      "image/png": "[encoded data removed]",
      "text/plain": [
       "<matplotlib.figure.Figure at 0x2563bf9c390>"
      ]
     },
     "metadata": {},
     "output_type": "display_data"
    }
   ],
   "source": [
    "max_val = max(hist[\"val_acc\"])\n",
    "max_ind = hist[\"val_acc\"].index(max_val)\n",
    "plt.figure(figsize=(10,5))\n",
    "plt.plot(hist[\"acc\"])\n",
    "plt.plot(hist[\"val_acc\"])\n",
    "plt.plot(max_ind, max_val, 'o', color=\"red\", markersize=5)\n",
    "plt.annotate(str(max_val), (max_ind, max_val+0.01), fontsize=10)\n",
    "plt.title(\"Model Accuracy vs Epochs\")\n",
    "plt.xlabel(\"epoch\")\n",
    "plt.yticks(np.arange(0, 1.0 + 0.01, 0.1))\n",
    "\n",
    "plt.ylabel(\"accuracy\")\n",
    "plt.grid(True)\n",
    "plt.legend([\"Training\", \"Validation\"], loc=\"lower right\")\n",
    "plt.xlim(left=0)\n",
    "plt.show()"
   ]
  },
  {
   "cell_type": "code",
   "execution_count": 53,
   "metadata": {
    "colab": {
     "base_uri": "https://localhost:8080/",
     "height": 349
    },
    "colab_type": "code",
    "id": "ScxAZ2htYaIS",
    "outputId": "a581d845-8c7b-4fb1-89cc-55f852a2e5e5"
   },
   "outputs": [
    {
     "data": {
      "image/png": "[encoded data removed]",
      "text/plain": [
       "<matplotlib.figure.Figure at 0x2563bf9c2e8>"
      ]
     },
     "metadata": {},
     "output_type": "display_data"
    }
   ],
   "source": [
    "max_val = max(hist[\"val_loss\"])\n",
    "max_ind = hist[\"val_loss\"].index(max_val)\n",
    "plt.figure(figsize=(10,5))\n",
    "plt.plot(hist[\"loss\"])\n",
    "plt.plot(hist[\"val_loss\"])\n",
    "plt.title(\"Model Loss vs Epochs\")\n",
    "plt.xlabel(\"epoch\")\n",
    "\n",
    "plt.ylabel(\"loss\")\n",
    "plt.grid(True)\n",
    "plt.legend([\"Train\", \"Validation\"], loc=\"upper left\")\n",
    "plt.xlim(left=0)\n",
    "plt.show()"
   ]
  },
  {
   "cell_type": "markdown",
   "metadata": {
    "colab_type": "text",
    "id": "tJOvMORUljDh"
   },
   "source": [
    "# Predictions"
   ]
  },
  {
   "cell_type": "code",
   "execution_count": 55,
   "metadata": {
    "colab": {},
    "colab_type": "code",
    "id": "0OWM8pVwYvAZ"
   },
   "outputs": [],
   "source": [
    "# Load test images\n",
    "tr_images = np.load(path + \"processed_resized_test_images.npy\", encoding = 'latin1')\n",
    "test_img = []\n",
    "for i, img in enumerate(tr_images):\n",
    "    test_img.append(np.repeat(np.reshape(img, (42, 42))[:, :, np.newaxis], repeats=3, axis=2))\n",
    "test_img = np.array(test_img)"
   ]
  },
  {
   "cell_type": "code",
   "execution_count": 56,
   "metadata": {
    "colab": {},
    "colab_type": "code",
    "id": "9cvzoWdOYvAn"
   },
   "outputs": [],
   "source": [
    "# Get model predictions\n",
    "test_pred = my_model.predict(test_img)"
   ]
  },
  {
   "cell_type": "code",
   "execution_count": 57,
   "metadata": {
    "colab": {},
    "colab_type": "code",
    "id": "jjjXMm0sYvAu"
   },
   "outputs": [],
   "source": [
    "def one_hot(x):\n",
    "    a = np.zeros(x.shape)\n",
    "    a[np.argmax(x)] = 1\n",
    "    return a"
   ]
  },
  {
   "cell_type": "code",
   "execution_count": 58,
   "metadata": {
    "colab": {},
    "colab_type": "code",
    "id": "DoxztMAFYvAy"
   },
   "outputs": [],
   "source": [
    "test = []\n",
    "for pred in test_pred:\n",
    "    test.append(one_hot(pred))\n",
    "\n",
    "test = np.array(test)"
   ]
  },
  {
   "cell_type": "code",
   "execution_count": 59,
   "metadata": {
    "colab": {},
    "colab_type": "code",
    "id": "X0KCPRnUYvA2"
   },
   "outputs": [],
   "source": [
    "%%capture --no-stdout\n",
    "sub_pred = []\n",
    "for pred in test:\n",
    "    sub_pred.append(le.inverse_transform(np.argmax(pred)))"
   ]
  },
  {
   "cell_type": "code",
   "execution_count": 60,
   "metadata": {
    "colab": {},
    "colab_type": "code",
    "id": "ZcMRuqpNYvBH"
   },
   "outputs": [],
   "source": [
    "df = pd.DataFrame({\"Id\": np.arange(len(sub_pred)), \"Category\": sub_pred})\n",
    "df = df[[\"Id\", \"Category\"]]"
   ]
  },
  {
   "cell_type": "code",
   "execution_count": 61,
   "metadata": {
    "colab": {
     "base_uri": "https://localhost:8080/",
     "height": 1969
    },
    "colab_type": "code",
    "id": "MqaKnx5OmXwo",
    "outputId": "5566cd4a-5874-4531-d667-4a0759927bb6"
   },
   "outputs": [
    {
     "data": {
      "text/html": [
       "<div>\n",
       "<style scoped>\n",
       "    .dataframe tbody tr th:only-of-type {\n",
       "        vertical-align: middle;\n",
       "    }\n",
       "\n",
       "    .dataframe tbody tr th {\n",
       "        vertical-align: top;\n",
       "    }\n",
       "\n",
       "    .dataframe thead th {\n",
       "        text-align: right;\n",
       "    }\n",
       "</style>\n",
       "<table border=\"1\" class=\"dataframe\">\n",
       "  <thead>\n",
       "    <tr style=\"text-align: right;\">\n",
       "      <th></th>\n",
       "      <th>Id</th>\n",
       "      <th>Category</th>\n",
       "    </tr>\n",
       "  </thead>\n",
       "  <tbody>\n",
       "    <tr>\n",
       "      <th>0</th>\n",
       "      <td>0</td>\n",
       "      <td>pineapple</td>\n",
       "    </tr>\n",
       "    <tr>\n",
       "      <th>1</th>\n",
       "      <td>1</td>\n",
       "      <td>pear</td>\n",
       "    </tr>\n",
       "    <tr>\n",
       "      <th>2</th>\n",
       "      <td>2</td>\n",
       "      <td>mug</td>\n",
       "    </tr>\n",
       "    <tr>\n",
       "      <th>3</th>\n",
       "      <td>3</td>\n",
       "      <td>pool</td>\n",
       "    </tr>\n",
       "    <tr>\n",
       "      <th>4</th>\n",
       "      <td>4</td>\n",
       "      <td>empty</td>\n",
       "    </tr>\n",
       "    <tr>\n",
       "      <th>5</th>\n",
       "      <td>5</td>\n",
       "      <td>rifle</td>\n",
       "    </tr>\n",
       "    <tr>\n",
       "      <th>6</th>\n",
       "      <td>6</td>\n",
       "      <td>pool</td>\n",
       "    </tr>\n",
       "    <tr>\n",
       "      <th>7</th>\n",
       "      <td>7</td>\n",
       "      <td>scorpion</td>\n",
       "    </tr>\n",
       "    <tr>\n",
       "      <th>8</th>\n",
       "      <td>8</td>\n",
       "      <td>pineapple</td>\n",
       "    </tr>\n",
       "    <tr>\n",
       "      <th>9</th>\n",
       "      <td>9</td>\n",
       "      <td>rollerskates</td>\n",
       "    </tr>\n",
       "    <tr>\n",
       "      <th>10</th>\n",
       "      <td>10</td>\n",
       "      <td>pencil</td>\n",
       "    </tr>\n",
       "    <tr>\n",
       "      <th>11</th>\n",
       "      <td>11</td>\n",
       "      <td>pineapple</td>\n",
       "    </tr>\n",
       "    <tr>\n",
       "      <th>12</th>\n",
       "      <td>12</td>\n",
       "      <td>rifle</td>\n",
       "    </tr>\n",
       "    <tr>\n",
       "      <th>13</th>\n",
       "      <td>13</td>\n",
       "      <td>skull</td>\n",
       "    </tr>\n",
       "    <tr>\n",
       "      <th>14</th>\n",
       "      <td>14</td>\n",
       "      <td>rabbit</td>\n",
       "    </tr>\n",
       "    <tr>\n",
       "      <th>15</th>\n",
       "      <td>15</td>\n",
       "      <td>pencil</td>\n",
       "    </tr>\n",
       "    <tr>\n",
       "      <th>16</th>\n",
       "      <td>16</td>\n",
       "      <td>pencil</td>\n",
       "    </tr>\n",
       "    <tr>\n",
       "      <th>17</th>\n",
       "      <td>17</td>\n",
       "      <td>shovel</td>\n",
       "    </tr>\n",
       "    <tr>\n",
       "      <th>18</th>\n",
       "      <td>18</td>\n",
       "      <td>nose</td>\n",
       "    </tr>\n",
       "    <tr>\n",
       "      <th>19</th>\n",
       "      <td>19</td>\n",
       "      <td>rifle</td>\n",
       "    </tr>\n",
       "    <tr>\n",
       "      <th>20</th>\n",
       "      <td>20</td>\n",
       "      <td>sailboat</td>\n",
       "    </tr>\n",
       "    <tr>\n",
       "      <th>21</th>\n",
       "      <td>21</td>\n",
       "      <td>apple</td>\n",
       "    </tr>\n",
       "    <tr>\n",
       "      <th>22</th>\n",
       "      <td>22</td>\n",
       "      <td>skateboard</td>\n",
       "    </tr>\n",
       "    <tr>\n",
       "      <th>23</th>\n",
       "      <td>23</td>\n",
       "      <td>pillow</td>\n",
       "    </tr>\n",
       "    <tr>\n",
       "      <th>24</th>\n",
       "      <td>24</td>\n",
       "      <td>mouth</td>\n",
       "    </tr>\n",
       "    <tr>\n",
       "      <th>25</th>\n",
       "      <td>25</td>\n",
       "      <td>mouth</td>\n",
       "    </tr>\n",
       "    <tr>\n",
       "      <th>26</th>\n",
       "      <td>26</td>\n",
       "      <td>moustache</td>\n",
       "    </tr>\n",
       "    <tr>\n",
       "      <th>27</th>\n",
       "      <td>27</td>\n",
       "      <td>rabbit</td>\n",
       "    </tr>\n",
       "    <tr>\n",
       "      <th>28</th>\n",
       "      <td>28</td>\n",
       "      <td>rollerskates</td>\n",
       "    </tr>\n",
       "    <tr>\n",
       "      <th>29</th>\n",
       "      <td>29</td>\n",
       "      <td>shovel</td>\n",
       "    </tr>\n",
       "    <tr>\n",
       "      <th>...</th>\n",
       "      <td>...</td>\n",
       "      <td>...</td>\n",
       "    </tr>\n",
       "    <tr>\n",
       "      <th>9970</th>\n",
       "      <td>9970</td>\n",
       "      <td>skateboard</td>\n",
       "    </tr>\n",
       "    <tr>\n",
       "      <th>9971</th>\n",
       "      <td>9971</td>\n",
       "      <td>peanut</td>\n",
       "    </tr>\n",
       "    <tr>\n",
       "      <th>9972</th>\n",
       "      <td>9972</td>\n",
       "      <td>paintbrush</td>\n",
       "    </tr>\n",
       "    <tr>\n",
       "      <th>9973</th>\n",
       "      <td>9973</td>\n",
       "      <td>pillow</td>\n",
       "    </tr>\n",
       "    <tr>\n",
       "      <th>9974</th>\n",
       "      <td>9974</td>\n",
       "      <td>mouth</td>\n",
       "    </tr>\n",
       "    <tr>\n",
       "      <th>9975</th>\n",
       "      <td>9975</td>\n",
       "      <td>scorpion</td>\n",
       "    </tr>\n",
       "    <tr>\n",
       "      <th>9976</th>\n",
       "      <td>9976</td>\n",
       "      <td>peanut</td>\n",
       "    </tr>\n",
       "    <tr>\n",
       "      <th>9977</th>\n",
       "      <td>9977</td>\n",
       "      <td>shovel</td>\n",
       "    </tr>\n",
       "    <tr>\n",
       "      <th>9978</th>\n",
       "      <td>9978</td>\n",
       "      <td>nail</td>\n",
       "    </tr>\n",
       "    <tr>\n",
       "      <th>9979</th>\n",
       "      <td>9979</td>\n",
       "      <td>moustache</td>\n",
       "    </tr>\n",
       "    <tr>\n",
       "      <th>9980</th>\n",
       "      <td>9980</td>\n",
       "      <td>moustache</td>\n",
       "    </tr>\n",
       "    <tr>\n",
       "      <th>9981</th>\n",
       "      <td>9981</td>\n",
       "      <td>mouth</td>\n",
       "    </tr>\n",
       "    <tr>\n",
       "      <th>9982</th>\n",
       "      <td>9982</td>\n",
       "      <td>mug</td>\n",
       "    </tr>\n",
       "    <tr>\n",
       "      <th>9983</th>\n",
       "      <td>9983</td>\n",
       "      <td>penguin</td>\n",
       "    </tr>\n",
       "    <tr>\n",
       "      <th>9984</th>\n",
       "      <td>9984</td>\n",
       "      <td>pineapple</td>\n",
       "    </tr>\n",
       "    <tr>\n",
       "      <th>9985</th>\n",
       "      <td>9985</td>\n",
       "      <td>mouth</td>\n",
       "    </tr>\n",
       "    <tr>\n",
       "      <th>9986</th>\n",
       "      <td>9986</td>\n",
       "      <td>pineapple</td>\n",
       "    </tr>\n",
       "    <tr>\n",
       "      <th>9987</th>\n",
       "      <td>9987</td>\n",
       "      <td>penguin</td>\n",
       "    </tr>\n",
       "    <tr>\n",
       "      <th>9988</th>\n",
       "      <td>9988</td>\n",
       "      <td>empty</td>\n",
       "    </tr>\n",
       "    <tr>\n",
       "      <th>9989</th>\n",
       "      <td>9989</td>\n",
       "      <td>mug</td>\n",
       "    </tr>\n",
       "    <tr>\n",
       "      <th>9990</th>\n",
       "      <td>9990</td>\n",
       "      <td>pear</td>\n",
       "    </tr>\n",
       "    <tr>\n",
       "      <th>9991</th>\n",
       "      <td>9991</td>\n",
       "      <td>apple</td>\n",
       "    </tr>\n",
       "    <tr>\n",
       "      <th>9992</th>\n",
       "      <td>9992</td>\n",
       "      <td>rollerskates</td>\n",
       "    </tr>\n",
       "    <tr>\n",
       "      <th>9993</th>\n",
       "      <td>9993</td>\n",
       "      <td>rollerskates</td>\n",
       "    </tr>\n",
       "    <tr>\n",
       "      <th>9994</th>\n",
       "      <td>9994</td>\n",
       "      <td>scorpion</td>\n",
       "    </tr>\n",
       "    <tr>\n",
       "      <th>9995</th>\n",
       "      <td>9995</td>\n",
       "      <td>mouth</td>\n",
       "    </tr>\n",
       "    <tr>\n",
       "      <th>9996</th>\n",
       "      <td>9996</td>\n",
       "      <td>screwdriver</td>\n",
       "    </tr>\n",
       "    <tr>\n",
       "      <th>9997</th>\n",
       "      <td>9997</td>\n",
       "      <td>skateboard</td>\n",
       "    </tr>\n",
       "    <tr>\n",
       "      <th>9998</th>\n",
       "      <td>9998</td>\n",
       "      <td>pineapple</td>\n",
       "    </tr>\n",
       "    <tr>\n",
       "      <th>9999</th>\n",
       "      <td>9999</td>\n",
       "      <td>mug</td>\n",
       "    </tr>\n",
       "  </tbody>\n",
       "</table>\n",
       "<p>10000 rows × 2 columns</p>\n",
       "</div>"
      ],
      "text/plain": [
       "        Id      Category\n",
       "0        0     pineapple\n",
       "1        1          pear\n",
       "2        2           mug\n",
       "3        3          pool\n",
       "4        4         empty\n",
       "5        5         rifle\n",
       "6        6          pool\n",
       "7        7      scorpion\n",
       "8        8     pineapple\n",
       "9        9  rollerskates\n",
       "10      10        pencil\n",
       "11      11     pineapple\n",
       "12      12         rifle\n",
       "13      13         skull\n",
       "14      14        rabbit\n",
       "15      15        pencil\n",
       "16      16        pencil\n",
       "17      17        shovel\n",
       "18      18          nose\n",
       "19      19         rifle\n",
       "20      20      sailboat\n",
       "21      21         apple\n",
       "22      22    skateboard\n",
       "23      23        pillow\n",
       "24      24         mouth\n",
       "25      25         mouth\n",
       "26      26     moustache\n",
       "27      27        rabbit\n",
       "28      28  rollerskates\n",
       "29      29        shovel\n",
       "...    ...           ...\n",
       "9970  9970    skateboard\n",
       "9971  9971        peanut\n",
       "9972  9972    paintbrush\n",
       "9973  9973        pillow\n",
       "9974  9974         mouth\n",
       "9975  9975      scorpion\n",
       "9976  9976        peanut\n",
       "9977  9977        shovel\n",
       "9978  9978          nail\n",
       "9979  9979     moustache\n",
       "9980  9980     moustache\n",
       "9981  9981         mouth\n",
       "9982  9982           mug\n",
       "9983  9983       penguin\n",
       "9984  9984     pineapple\n",
       "9985  9985         mouth\n",
       "9986  9986     pineapple\n",
       "9987  9987       penguin\n",
       "9988  9988         empty\n",
       "9989  9989           mug\n",
       "9990  9990          pear\n",
       "9991  9991         apple\n",
       "9992  9992  rollerskates\n",
       "9993  9993  rollerskates\n",
       "9994  9994      scorpion\n",
       "9995  9995         mouth\n",
       "9996  9996   screwdriver\n",
       "9997  9997    skateboard\n",
       "9998  9998     pineapple\n",
       "9999  9999           mug\n",
       "\n",
       "[10000 rows x 2 columns]"
      ]
     },
     "execution_count": 61,
     "metadata": {},
     "output_type": "execute_result"
    }
   ],
   "source": [
    "df"
   ]
  },
  {
   "cell_type": "code",
   "execution_count": 62,
   "metadata": {
    "colab": {},
    "colab_type": "code",
    "id": "e-Q2z7ceYvBL"
   },
   "outputs": [],
   "source": [
    "# Save file to CSV\n",
    "df.to_csv(path + \"vgg16_86_imagegen.csv\", index=False)"
   ]
  }
 ],
 "metadata": {
  "accelerator": "GPU",
  "colab": {
   "collapsed_sections": [
    "7C1Y023AYWCd",
    "oX-FA4jvqFFf",
    "clkRZ0g2Yu8R",
    "cDwKUM6FYu9X"
   ],
   "name": "Untitled1.ipynb",
   "provenance": [],
   "version": "0.3.2"
  },
  "kernelspec": {
   "display_name": "Python 3",
   "language": "python",
   "name": "python3"
  },
  "language_info": {
   "codemirror_mode": {
    "name": "ipython",
    "version": 3
   },
   "file_extension": ".py",
   "mimetype": "text/x-python",
   "name": "python",
   "nbconvert_exporter": "python",
   "pygments_lexer": "ipython3",
   "version": "3.6.5"
  }
 },
 "nbformat": 4,
 "nbformat_minor": 1
}
